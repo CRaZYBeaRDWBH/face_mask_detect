{
  "nbformat": 4,
  "nbformat_minor": 0,
  "metadata": {
    "colab": {
      "provenance": [],
      "gpuType": "L4"
    },
    "kernelspec": {
      "name": "python3",
      "display_name": "Python 3"
    },
    "language_info": {
      "name": "python"
    },
    "accelerator": "GPU"
  },
  "cells": [
    {
      "cell_type": "code",
      "execution_count": 1,
      "metadata": {
        "id": "HxwnNLYdhEk0"
      },
      "outputs": [],
      "source": [
        "import pandas as pd\n",
        "import numpy as np\n",
        "from sklearn.model_selection import train_test_split\n",
        "from sklearn.metrics import classification_report, confusion_matrix, roc_curve, auc\n",
        "import matplotlib.pyplot as plt\n",
        "import seaborn as sns\n",
        "import os\n",
        "\n",
        "from tensorflow.keras.applications import DenseNet121, MobileNet\n",
        "from tensorflow.keras.models import Model\n",
        "from tensorflow.keras.layers import GlobalAveragePooling2D, Dropout, Dense\n",
        "from tensorflow.keras.preprocessing.image import ImageDataGenerator\n",
        "from tensorflow.keras.optimizers import Adam, SGD\n",
        "from tensorflow.keras.callbacks import EarlyStopping, ReduceLROnPlateau\n",
        "\n",
        "import kagglehub"
      ]
    },
    {
      "cell_type": "code",
      "source": [
        "# Veri setini indirin\n",
        "path = kagglehub.dataset_download(\"omkargurav/face-mask-dataset\")"
      ],
      "metadata": {
        "colab": {
          "base_uri": "https://localhost:8080/"
        },
        "id": "y36clSlbhWO2",
        "outputId": "e99a2f85-e9c8-4152-fe88-ba11647ec99f"
      },
      "execution_count": 2,
      "outputs": [
        {
          "output_type": "stream",
          "name": "stdout",
          "text": [
            "Warning: Looks like you're using an outdated `kagglehub` version (installed: 0.3.6), please consider upgrading to the latest version (0.3.7).\n",
            "Downloading from https://www.kaggle.com/api/v1/datasets/download/omkargurav/face-mask-dataset?dataset_version_number=1...\n"
          ]
        },
        {
          "output_type": "stream",
          "name": "stderr",
          "text": [
            "100%|██████████| 163M/163M [00:08<00:00, 20.9MB/s]"
          ]
        },
        {
          "output_type": "stream",
          "name": "stdout",
          "text": [
            "Extracting files...\n"
          ]
        },
        {
          "output_type": "stream",
          "name": "stderr",
          "text": [
            "\n"
          ]
        }
      ]
    },
    {
      "cell_type": "code",
      "source": [
        "print(\"Path to dataset files:\", path)"
      ],
      "metadata": {
        "colab": {
          "base_uri": "https://localhost:8080/"
        },
        "id": "oPPiVwTHhWK6",
        "outputId": "a8cb0dff-333d-477f-a8a0-e74063fb0a2d"
      },
      "execution_count": 3,
      "outputs": [
        {
          "output_type": "stream",
          "name": "stdout",
          "text": [
            "Path to dataset files: /root/.cache/kagglehub/datasets/omkargurav/face-mask-dataset/versions/1\n"
          ]
        }
      ]
    },
    {
      "cell_type": "code",
      "source": [
        "data_dir = '/root/.cache/kagglehub/datasets/omkargurav/face-mask-dataset/versions/1/data'"
      ],
      "metadata": {
        "id": "o-pvXyeKhWHm"
      },
      "execution_count": 4,
      "outputs": []
    },
    {
      "cell_type": "code",
      "source": [
        "categories = os.listdir(data_dir)\n",
        "filepaths = []\n",
        "labels = []"
      ],
      "metadata": {
        "id": "jR-mFK-GhWD3"
      },
      "execution_count": 5,
      "outputs": []
    },
    {
      "cell_type": "code",
      "source": [
        "for category in categories:\n",
        "    category_path = os.path.join(data_dir, category)\n",
        "    for filename in os.listdir(category_path):\n",
        "        filepaths.append(os.path.join(category_path, filename))\n",
        "        labels.append(category)"
      ],
      "metadata": {
        "id": "yNrmtNz2hV-u"
      },
      "execution_count": 6,
      "outputs": []
    },
    {
      "cell_type": "code",
      "source": [
        "train_files, test_files, train_labels, test_labels = train_test_split(filepaths, labels, test_size=0.2, random_state=42)"
      ],
      "metadata": {
        "id": "HgqHJCzshV0J"
      },
      "execution_count": 7,
      "outputs": []
    },
    {
      "cell_type": "code",
      "source": [
        "train_files, val_files, train_labels, val_labels = train_test_split(train_files, train_labels, test_size=0.2, random_state=42)"
      ],
      "metadata": {
        "id": "3zEoLuzAiUMo"
      },
      "execution_count": 8,
      "outputs": []
    },
    {
      "cell_type": "code",
      "source": [
        "base_model = DenseNet121(weights='imagenet', include_top=False, input_shape=(224, 224, 3))"
      ],
      "metadata": {
        "colab": {
          "base_uri": "https://localhost:8080/"
        },
        "id": "rUkShcM4iUIs",
        "outputId": "331ab707-86e5-4e86-9097-795b8b42c0a4"
      },
      "execution_count": 9,
      "outputs": [
        {
          "output_type": "stream",
          "name": "stdout",
          "text": [
            "Downloading data from https://storage.googleapis.com/tensorflow/keras-applications/densenet/densenet121_weights_tf_dim_ordering_tf_kernels_notop.h5\n",
            "\u001b[1m29084464/29084464\u001b[0m \u001b[32m━━━━━━━━━━━━━━━━━━━━\u001b[0m\u001b[37m\u001b[0m \u001b[1m2s\u001b[0m 0us/step\n"
          ]
        }
      ]
    },
    {
      "cell_type": "code",
      "source": [
        "x = base_model.output\n",
        "x = GlobalAveragePooling2D()(x)\n",
        "x = Dropout(0.5)(x)\n",
        "x = Dense(256, activation='relu')(x)\n",
        "x = Dense(256, activation='relu')(x)\n",
        "x = Dense(128, activation='relu')(x)\n",
        "x = Dense(64, activation='relu')(x)\n",
        "predictions = Dense(2, activation='softmax')(x)\n",
        "model = Model(inputs=base_model.input, outputs=predictions)"
      ],
      "metadata": {
        "id": "rqqjb2sRiUFo"
      },
      "execution_count": 10,
      "outputs": []
    },
    {
      "cell_type": "code",
      "source": [
        "model.compile(optimizer=Adam(learning_rate=0.001),loss='categorical_crossentropy',metrics=['accuracy'])"
      ],
      "metadata": {
        "id": "Rec_gcw4iT_S"
      },
      "execution_count": 11,
      "outputs": []
    },
    {
      "cell_type": "code",
      "source": [
        "early_stopping = EarlyStopping(monitor='val_loss', patience=25)\n",
        "reduce_lr = ReduceLROnPlateau(monitor='val_loss', factor=0.1, patience=5, min_lr=0.00001)"
      ],
      "metadata": {
        "id": "DRlFeqPtiT7f"
      },
      "execution_count": 12,
      "outputs": []
    },
    {
      "cell_type": "code",
      "source": [
        "datagen = ImageDataGenerator(\n",
        "    rescale=1.0/255,\n",
        "    rotation_range=10,\n",
        "    width_shift_range=0.1,\n",
        "    height_shift_range=0.1,\n",
        "    shear_range=0.1,\n",
        "    zoom_range=0.1,\n",
        "    horizontal_flip=True,\n",
        "    fill_mode='nearest'\n",
        ")"
      ],
      "metadata": {
        "id": "sKUREUCfilcP"
      },
      "execution_count": 13,
      "outputs": []
    },
    {
      "cell_type": "code",
      "source": [
        "train_generator = datagen.flow_from_dataframe(\n",
        "    dataframe=pd.DataFrame({'filename': train_files, 'label': train_labels}),\n",
        "    x_col='filename',\n",
        "    y_col='label',\n",
        "    target_size=(224, 224),\n",
        "    batch_size=32,\n",
        "    class_mode='categorical'\n",
        ")"
      ],
      "metadata": {
        "colab": {
          "base_uri": "https://localhost:8080/"
        },
        "id": "AKVIDjlPilX2",
        "outputId": "faf0cdf6-ab68-4962-91b8-7b94ab3937f6"
      },
      "execution_count": 14,
      "outputs": [
        {
          "output_type": "stream",
          "name": "stdout",
          "text": [
            "Found 4833 validated image filenames belonging to 2 classes.\n"
          ]
        }
      ]
    },
    {
      "cell_type": "code",
      "source": [
        "val_generator = datagen.flow_from_dataframe(\n",
        "    dataframe=pd.DataFrame({'filename': val_files, 'label': val_labels}),\n",
        "    x_col='filename',\n",
        "    y_col='label',\n",
        "    target_size=(224, 224),\n",
        "    batch_size=32,\n",
        "    class_mode='categorical'\n",
        ")"
      ],
      "metadata": {
        "colab": {
          "base_uri": "https://localhost:8080/"
        },
        "id": "rehaSlduilTk",
        "outputId": "dcb108ca-630a-4b02-deb2-1eb09030313f"
      },
      "execution_count": 15,
      "outputs": [
        {
          "output_type": "stream",
          "name": "stdout",
          "text": [
            "Found 1209 validated image filenames belonging to 2 classes.\n"
          ]
        }
      ]
    },
    {
      "cell_type": "code",
      "source": [
        "history = model.fit(\n",
        "    train_generator,\n",
        "    epochs=100,\n",
        "    validation_data=val_generator,\n",
        "    callbacks=[early_stopping, reduce_lr]\n",
        ")"
      ],
      "metadata": {
        "colab": {
          "base_uri": "https://localhost:8080/"
        },
        "id": "fqzXIRbgilOS",
        "outputId": "251a0e0c-dbba-4b1b-fe80-880d464d1c62"
      },
      "execution_count": 16,
      "outputs": [
        {
          "output_type": "stream",
          "name": "stderr",
          "text": [
            "/usr/local/lib/python3.11/dist-packages/keras/src/trainers/data_adapters/py_dataset_adapter.py:121: UserWarning: Your `PyDataset` class should call `super().__init__(**kwargs)` in its constructor. `**kwargs` can include `workers`, `use_multiprocessing`, `max_queue_size`. Do not pass these arguments to `fit()`, as they will be ignored.\n",
            "  self._warn_if_super_not_called()\n"
          ]
        },
        {
          "output_type": "stream",
          "name": "stdout",
          "text": [
            "Epoch 1/100\n",
            "\u001b[1m 27/152\u001b[0m \u001b[32m━━━\u001b[0m\u001b[37m━━━━━━━━━━━━━━━━━\u001b[0m \u001b[1m42s\u001b[0m 336ms/step - accuracy: 0.8253 - loss: 0.3885"
          ]
        },
        {
          "output_type": "stream",
          "name": "stderr",
          "text": [
            "/usr/local/lib/python3.11/dist-packages/PIL/Image.py:1045: UserWarning: Palette images with Transparency expressed in bytes should be converted to RGBA images\n",
            "  warnings.warn(\n"
          ]
        },
        {
          "output_type": "stream",
          "name": "stdout",
          "text": [
            "\u001b[1m152/152\u001b[0m \u001b[32m━━━━━━━━━━━━━━━━━━━━\u001b[0m\u001b[37m\u001b[0m \u001b[1m339s\u001b[0m 1s/step - accuracy: 0.9153 - loss: 0.2219 - val_accuracy: 0.7320 - val_loss: 2.8813 - learning_rate: 0.0010\n",
            "Epoch 2/100\n",
            "\u001b[1m152/152\u001b[0m \u001b[32m━━━━━━━━━━━━━━━━━━━━\u001b[0m\u001b[37m\u001b[0m \u001b[1m65s\u001b[0m 425ms/step - accuracy: 0.9700 - loss: 0.0822 - val_accuracy: 0.9446 - val_loss: 0.2955 - learning_rate: 0.0010\n",
            "Epoch 3/100\n",
            "\u001b[1m152/152\u001b[0m \u001b[32m━━━━━━━━━━━━━━━━━━━━\u001b[0m\u001b[37m\u001b[0m \u001b[1m65s\u001b[0m 424ms/step - accuracy: 0.9710 - loss: 0.0801 - val_accuracy: 0.9355 - val_loss: 0.1869 - learning_rate: 0.0010\n",
            "Epoch 4/100\n",
            "\u001b[1m152/152\u001b[0m \u001b[32m━━━━━━━━━━━━━━━━━━━━\u001b[0m\u001b[37m\u001b[0m \u001b[1m65s\u001b[0m 425ms/step - accuracy: 0.9781 - loss: 0.0674 - val_accuracy: 0.9884 - val_loss: 0.0469 - learning_rate: 0.0010\n",
            "Epoch 5/100\n",
            "\u001b[1m152/152\u001b[0m \u001b[32m━━━━━━━━━━━━━━━━━━━━\u001b[0m\u001b[37m\u001b[0m \u001b[1m65s\u001b[0m 424ms/step - accuracy: 0.9812 - loss: 0.0571 - val_accuracy: 0.9371 - val_loss: 0.4215 - learning_rate: 0.0010\n",
            "Epoch 6/100\n",
            "\u001b[1m152/152\u001b[0m \u001b[32m━━━━━━━━━━━━━━━━━━━━\u001b[0m\u001b[37m\u001b[0m \u001b[1m65s\u001b[0m 429ms/step - accuracy: 0.9824 - loss: 0.0582 - val_accuracy: 0.9644 - val_loss: 0.1087 - learning_rate: 0.0010\n",
            "Epoch 7/100\n",
            "\u001b[1m152/152\u001b[0m \u001b[32m━━━━━━━━━━━━━━━━━━━━\u001b[0m\u001b[37m\u001b[0m \u001b[1m65s\u001b[0m 424ms/step - accuracy: 0.9725 - loss: 0.0775 - val_accuracy: 0.9578 - val_loss: 0.1079 - learning_rate: 0.0010\n",
            "Epoch 8/100\n",
            "\u001b[1m152/152\u001b[0m \u001b[32m━━━━━━━━━━━━━━━━━━━━\u001b[0m\u001b[37m\u001b[0m \u001b[1m65s\u001b[0m 426ms/step - accuracy: 0.9798 - loss: 0.0554 - val_accuracy: 0.9760 - val_loss: 0.0862 - learning_rate: 0.0010\n",
            "Epoch 9/100\n",
            "\u001b[1m152/152\u001b[0m \u001b[32m━━━━━━━━━━━━━━━━━━━━\u001b[0m\u001b[37m\u001b[0m \u001b[1m65s\u001b[0m 426ms/step - accuracy: 0.9882 - loss: 0.0308 - val_accuracy: 0.9868 - val_loss: 0.0402 - learning_rate: 0.0010\n",
            "Epoch 10/100\n",
            "\u001b[1m152/152\u001b[0m \u001b[32m━━━━━━━━━━━━━━━━━━━━\u001b[0m\u001b[37m\u001b[0m \u001b[1m65s\u001b[0m 430ms/step - accuracy: 0.9801 - loss: 0.0610 - val_accuracy: 0.8346 - val_loss: 1.4020 - learning_rate: 0.0010\n",
            "Epoch 11/100\n",
            "\u001b[1m152/152\u001b[0m \u001b[32m━━━━━━━━━━━━━━━━━━━━\u001b[0m\u001b[37m\u001b[0m \u001b[1m65s\u001b[0m 424ms/step - accuracy: 0.9787 - loss: 0.0717 - val_accuracy: 0.9636 - val_loss: 0.1151 - learning_rate: 0.0010\n",
            "Epoch 12/100\n",
            "\u001b[1m152/152\u001b[0m \u001b[32m━━━━━━━━━━━━━━━━━━━━\u001b[0m\u001b[37m\u001b[0m \u001b[1m65s\u001b[0m 427ms/step - accuracy: 0.9869 - loss: 0.0387 - val_accuracy: 0.7436 - val_loss: 1.4299 - learning_rate: 0.0010\n",
            "Epoch 13/100\n",
            "\u001b[1m152/152\u001b[0m \u001b[32m━━━━━━━━━━━━━━━━━━━━\u001b[0m\u001b[37m\u001b[0m \u001b[1m64s\u001b[0m 424ms/step - accuracy: 0.9815 - loss: 0.0565 - val_accuracy: 0.9810 - val_loss: 0.0484 - learning_rate: 0.0010\n",
            "Epoch 14/100\n",
            "\u001b[1m152/152\u001b[0m \u001b[32m━━━━━━━━━━━━━━━━━━━━\u001b[0m\u001b[37m\u001b[0m \u001b[1m64s\u001b[0m 423ms/step - accuracy: 0.9649 - loss: 0.0931 - val_accuracy: 0.9801 - val_loss: 0.0789 - learning_rate: 0.0010\n",
            "Epoch 15/100\n",
            "\u001b[1m152/152\u001b[0m \u001b[32m━━━━━━━━━━━━━━━━━━━━\u001b[0m\u001b[37m\u001b[0m \u001b[1m65s\u001b[0m 424ms/step - accuracy: 0.9875 - loss: 0.0370 - val_accuracy: 0.9901 - val_loss: 0.0388 - learning_rate: 1.0000e-04\n",
            "Epoch 16/100\n",
            "\u001b[1m152/152\u001b[0m \u001b[32m━━━━━━━━━━━━━━━━━━━━\u001b[0m\u001b[37m\u001b[0m \u001b[1m65s\u001b[0m 425ms/step - accuracy: 0.9916 - loss: 0.0211 - val_accuracy: 0.9917 - val_loss: 0.0365 - learning_rate: 1.0000e-04\n",
            "Epoch 17/100\n",
            "\u001b[1m152/152\u001b[0m \u001b[32m━━━━━━━━━━━━━━━━━━━━\u001b[0m\u001b[37m\u001b[0m \u001b[1m65s\u001b[0m 426ms/step - accuracy: 0.9951 - loss: 0.0163 - val_accuracy: 0.9909 - val_loss: 0.0374 - learning_rate: 1.0000e-04\n",
            "Epoch 18/100\n",
            "\u001b[1m152/152\u001b[0m \u001b[32m━━━━━━━━━━━━━━━━━━━━\u001b[0m\u001b[37m\u001b[0m \u001b[1m64s\u001b[0m 424ms/step - accuracy: 0.9915 - loss: 0.0221 - val_accuracy: 0.9942 - val_loss: 0.0303 - learning_rate: 1.0000e-04\n",
            "Epoch 19/100\n",
            "\u001b[1m152/152\u001b[0m \u001b[32m━━━━━━━━━━━━━━━━━━━━\u001b[0m\u001b[37m\u001b[0m \u001b[1m65s\u001b[0m 424ms/step - accuracy: 0.9955 - loss: 0.0143 - val_accuracy: 0.9917 - val_loss: 0.0332 - learning_rate: 1.0000e-04\n",
            "Epoch 20/100\n",
            "\u001b[1m152/152\u001b[0m \u001b[32m━━━━━━━━━━━━━━━━━━━━\u001b[0m\u001b[37m\u001b[0m \u001b[1m65s\u001b[0m 426ms/step - accuracy: 0.9964 - loss: 0.0110 - val_accuracy: 0.9926 - val_loss: 0.0381 - learning_rate: 1.0000e-04\n",
            "Epoch 21/100\n",
            "\u001b[1m152/152\u001b[0m \u001b[32m━━━━━━━━━━━━━━━━━━━━\u001b[0m\u001b[37m\u001b[0m \u001b[1m65s\u001b[0m 425ms/step - accuracy: 0.9940 - loss: 0.0183 - val_accuracy: 0.9942 - val_loss: 0.0272 - learning_rate: 1.0000e-04\n",
            "Epoch 22/100\n",
            "\u001b[1m152/152\u001b[0m \u001b[32m━━━━━━━━━━━━━━━━━━━━\u001b[0m\u001b[37m\u001b[0m \u001b[1m65s\u001b[0m 425ms/step - accuracy: 0.9957 - loss: 0.0121 - val_accuracy: 0.9926 - val_loss: 0.0291 - learning_rate: 1.0000e-04\n",
            "Epoch 23/100\n",
            "\u001b[1m152/152\u001b[0m \u001b[32m━━━━━━━━━━━━━━━━━━━━\u001b[0m\u001b[37m\u001b[0m \u001b[1m64s\u001b[0m 423ms/step - accuracy: 0.9964 - loss: 0.0084 - val_accuracy: 0.9934 - val_loss: 0.0371 - learning_rate: 1.0000e-04\n",
            "Epoch 24/100\n",
            "\u001b[1m152/152\u001b[0m \u001b[32m━━━━━━━━━━━━━━━━━━━━\u001b[0m\u001b[37m\u001b[0m \u001b[1m65s\u001b[0m 425ms/step - accuracy: 0.9965 - loss: 0.0107 - val_accuracy: 0.9917 - val_loss: 0.0338 - learning_rate: 1.0000e-04\n",
            "Epoch 25/100\n",
            "\u001b[1m152/152\u001b[0m \u001b[32m━━━━━━━━━━━━━━━━━━━━\u001b[0m\u001b[37m\u001b[0m \u001b[1m65s\u001b[0m 424ms/step - accuracy: 0.9985 - loss: 0.0056 - val_accuracy: 0.9934 - val_loss: 0.0363 - learning_rate: 1.0000e-04\n",
            "Epoch 26/100\n",
            "\u001b[1m152/152\u001b[0m \u001b[32m━━━━━━━━━━━━━━━━━━━━\u001b[0m\u001b[37m\u001b[0m \u001b[1m65s\u001b[0m 424ms/step - accuracy: 0.9972 - loss: 0.0074 - val_accuracy: 0.9942 - val_loss: 0.0261 - learning_rate: 1.0000e-04\n",
            "Epoch 27/100\n",
            "\u001b[1m152/152\u001b[0m \u001b[32m━━━━━━━━━━━━━━━━━━━━\u001b[0m\u001b[37m\u001b[0m \u001b[1m65s\u001b[0m 426ms/step - accuracy: 0.9991 - loss: 0.0047 - val_accuracy: 0.9950 - val_loss: 0.0310 - learning_rate: 1.0000e-04\n",
            "Epoch 28/100\n",
            "\u001b[1m152/152\u001b[0m \u001b[32m━━━━━━━━━━━━━━━━━━━━\u001b[0m\u001b[37m\u001b[0m \u001b[1m64s\u001b[0m 423ms/step - accuracy: 0.9983 - loss: 0.0061 - val_accuracy: 0.9950 - val_loss: 0.0273 - learning_rate: 1.0000e-04\n",
            "Epoch 29/100\n",
            "\u001b[1m152/152\u001b[0m \u001b[32m━━━━━━━━━━━━━━━━━━━━\u001b[0m\u001b[37m\u001b[0m \u001b[1m65s\u001b[0m 425ms/step - accuracy: 0.9964 - loss: 0.0077 - val_accuracy: 0.9950 - val_loss: 0.0311 - learning_rate: 1.0000e-04\n",
            "Epoch 30/100\n",
            "\u001b[1m152/152\u001b[0m \u001b[32m━━━━━━━━━━━━━━━━━━━━\u001b[0m\u001b[37m\u001b[0m \u001b[1m65s\u001b[0m 427ms/step - accuracy: 0.9974 - loss: 0.0060 - val_accuracy: 0.9934 - val_loss: 0.0349 - learning_rate: 1.0000e-04\n",
            "Epoch 31/100\n",
            "\u001b[1m152/152\u001b[0m \u001b[32m━━━━━━━━━━━━━━━━━━━━\u001b[0m\u001b[37m\u001b[0m \u001b[1m65s\u001b[0m 424ms/step - accuracy: 0.9985 - loss: 0.0106 - val_accuracy: 0.9950 - val_loss: 0.0291 - learning_rate: 1.0000e-04\n",
            "Epoch 32/100\n",
            "\u001b[1m152/152\u001b[0m \u001b[32m━━━━━━━━━━━━━━━━━━━━\u001b[0m\u001b[37m\u001b[0m \u001b[1m65s\u001b[0m 424ms/step - accuracy: 0.9980 - loss: 0.0077 - val_accuracy: 0.9942 - val_loss: 0.0280 - learning_rate: 1.0000e-05\n",
            "Epoch 33/100\n",
            "\u001b[1m152/152\u001b[0m \u001b[32m━━━━━━━━━━━━━━━━━━━━\u001b[0m\u001b[37m\u001b[0m \u001b[1m65s\u001b[0m 427ms/step - accuracy: 0.9986 - loss: 0.0033 - val_accuracy: 0.9934 - val_loss: 0.0279 - learning_rate: 1.0000e-05\n",
            "Epoch 34/100\n",
            "\u001b[1m152/152\u001b[0m \u001b[32m━━━━━━━━━━━━━━━━━━━━\u001b[0m\u001b[37m\u001b[0m \u001b[1m65s\u001b[0m 427ms/step - accuracy: 0.9995 - loss: 0.0023 - val_accuracy: 0.9959 - val_loss: 0.0229 - learning_rate: 1.0000e-05\n",
            "Epoch 35/100\n",
            "\u001b[1m152/152\u001b[0m \u001b[32m━━━━━━━━━━━━━━━━━━━━\u001b[0m\u001b[37m\u001b[0m \u001b[1m65s\u001b[0m 424ms/step - accuracy: 0.9985 - loss: 0.0042 - val_accuracy: 0.9934 - val_loss: 0.0270 - learning_rate: 1.0000e-05\n",
            "Epoch 36/100\n",
            "\u001b[1m152/152\u001b[0m \u001b[32m━━━━━━━━━━━━━━━━━━━━\u001b[0m\u001b[37m\u001b[0m \u001b[1m65s\u001b[0m 426ms/step - accuracy: 0.9996 - loss: 0.0016 - val_accuracy: 0.9950 - val_loss: 0.0223 - learning_rate: 1.0000e-05\n",
            "Epoch 37/100\n",
            "\u001b[1m152/152\u001b[0m \u001b[32m━━━━━━━━━━━━━━━━━━━━\u001b[0m\u001b[37m\u001b[0m \u001b[1m65s\u001b[0m 430ms/step - accuracy: 0.9992 - loss: 0.0037 - val_accuracy: 0.9967 - val_loss: 0.0234 - learning_rate: 1.0000e-05\n",
            "Epoch 38/100\n",
            "\u001b[1m152/152\u001b[0m \u001b[32m━━━━━━━━━━━━━━━━━━━━\u001b[0m\u001b[37m\u001b[0m \u001b[1m65s\u001b[0m 428ms/step - accuracy: 0.9979 - loss: 0.0036 - val_accuracy: 0.9959 - val_loss: 0.0277 - learning_rate: 1.0000e-05\n",
            "Epoch 39/100\n",
            "\u001b[1m152/152\u001b[0m \u001b[32m━━━━━━━━━━━━━━━━━━━━\u001b[0m\u001b[37m\u001b[0m \u001b[1m65s\u001b[0m 426ms/step - accuracy: 0.9980 - loss: 0.0065 - val_accuracy: 0.9967 - val_loss: 0.0193 - learning_rate: 1.0000e-05\n",
            "Epoch 40/100\n",
            "\u001b[1m152/152\u001b[0m \u001b[32m━━━━━━━━━━━━━━━━━━━━\u001b[0m\u001b[37m\u001b[0m \u001b[1m65s\u001b[0m 428ms/step - accuracy: 0.9998 - loss: 0.0020 - val_accuracy: 0.9975 - val_loss: 0.0213 - learning_rate: 1.0000e-05\n",
            "Epoch 41/100\n",
            "\u001b[1m152/152\u001b[0m \u001b[32m━━━━━━━━━━━━━━━━━━━━\u001b[0m\u001b[37m\u001b[0m \u001b[1m66s\u001b[0m 434ms/step - accuracy: 0.9975 - loss: 0.0075 - val_accuracy: 0.9942 - val_loss: 0.0245 - learning_rate: 1.0000e-05\n",
            "Epoch 42/100\n",
            "\u001b[1m152/152\u001b[0m \u001b[32m━━━━━━━━━━━━━━━━━━━━\u001b[0m\u001b[37m\u001b[0m \u001b[1m65s\u001b[0m 426ms/step - accuracy: 0.9987 - loss: 0.0039 - val_accuracy: 0.9934 - val_loss: 0.0374 - learning_rate: 1.0000e-05\n",
            "Epoch 43/100\n",
            "\u001b[1m152/152\u001b[0m \u001b[32m━━━━━━━━━━━━━━━━━━━━\u001b[0m\u001b[37m\u001b[0m \u001b[1m65s\u001b[0m 427ms/step - accuracy: 0.9969 - loss: 0.0063 - val_accuracy: 0.9975 - val_loss: 0.0256 - learning_rate: 1.0000e-05\n",
            "Epoch 44/100\n",
            "\u001b[1m152/152\u001b[0m \u001b[32m━━━━━━━━━━━━━━━━━━━━\u001b[0m\u001b[37m\u001b[0m \u001b[1m65s\u001b[0m 425ms/step - accuracy: 0.9999 - loss: 0.0018 - val_accuracy: 0.9950 - val_loss: 0.0282 - learning_rate: 1.0000e-05\n",
            "Epoch 45/100\n",
            "\u001b[1m152/152\u001b[0m \u001b[32m━━━━━━━━━━━━━━━━━━━━\u001b[0m\u001b[37m\u001b[0m \u001b[1m66s\u001b[0m 434ms/step - accuracy: 0.9994 - loss: 0.0023 - val_accuracy: 0.9959 - val_loss: 0.0283 - learning_rate: 1.0000e-05\n",
            "Epoch 46/100\n",
            "\u001b[1m152/152\u001b[0m \u001b[32m━━━━━━━━━━━━━━━━━━━━\u001b[0m\u001b[37m\u001b[0m \u001b[1m65s\u001b[0m 425ms/step - accuracy: 0.9980 - loss: 0.0051 - val_accuracy: 0.9975 - val_loss: 0.0273 - learning_rate: 1.0000e-05\n",
            "Epoch 47/100\n",
            "\u001b[1m152/152\u001b[0m \u001b[32m━━━━━━━━━━━━━━━━━━━━\u001b[0m\u001b[37m\u001b[0m \u001b[1m65s\u001b[0m 428ms/step - accuracy: 0.9998 - loss: 0.0011 - val_accuracy: 0.9942 - val_loss: 0.0303 - learning_rate: 1.0000e-05\n",
            "Epoch 48/100\n",
            "\u001b[1m152/152\u001b[0m \u001b[32m━━━━━━━━━━━━━━━━━━━━\u001b[0m\u001b[37m\u001b[0m \u001b[1m65s\u001b[0m 425ms/step - accuracy: 0.9997 - loss: 0.0018 - val_accuracy: 0.9950 - val_loss: 0.0287 - learning_rate: 1.0000e-05\n",
            "Epoch 49/100\n",
            "\u001b[1m152/152\u001b[0m \u001b[32m━━━━━━━━━━━━━━━━━━━━\u001b[0m\u001b[37m\u001b[0m \u001b[1m65s\u001b[0m 428ms/step - accuracy: 0.9990 - loss: 0.0045 - val_accuracy: 0.9959 - val_loss: 0.0285 - learning_rate: 1.0000e-05\n",
            "Epoch 50/100\n",
            "\u001b[1m152/152\u001b[0m \u001b[32m━━━━━━━━━━━━━━━━━━━━\u001b[0m\u001b[37m\u001b[0m \u001b[1m65s\u001b[0m 426ms/step - accuracy: 0.9991 - loss: 0.0030 - val_accuracy: 0.9950 - val_loss: 0.0334 - learning_rate: 1.0000e-05\n",
            "Epoch 51/100\n",
            "\u001b[1m152/152\u001b[0m \u001b[32m━━━━━━━━━━━━━━━━━━━━\u001b[0m\u001b[37m\u001b[0m \u001b[1m65s\u001b[0m 426ms/step - accuracy: 0.9992 - loss: 0.0017 - val_accuracy: 0.9934 - val_loss: 0.0360 - learning_rate: 1.0000e-05\n",
            "Epoch 52/100\n",
            "\u001b[1m152/152\u001b[0m \u001b[32m━━━━━━━━━━━━━━━━━━━━\u001b[0m\u001b[37m\u001b[0m \u001b[1m64s\u001b[0m 421ms/step - accuracy: 0.9985 - loss: 0.0037 - val_accuracy: 0.9950 - val_loss: 0.0268 - learning_rate: 1.0000e-05\n",
            "Epoch 53/100\n",
            "\u001b[1m152/152\u001b[0m \u001b[32m━━━━━━━━━━━━━━━━━━━━\u001b[0m\u001b[37m\u001b[0m \u001b[1m65s\u001b[0m 425ms/step - accuracy: 0.9990 - loss: 0.0023 - val_accuracy: 0.9959 - val_loss: 0.0300 - learning_rate: 1.0000e-05\n",
            "Epoch 54/100\n",
            "\u001b[1m152/152\u001b[0m \u001b[32m━━━━━━━━━━━━━━━━━━━━\u001b[0m\u001b[37m\u001b[0m \u001b[1m65s\u001b[0m 424ms/step - accuracy: 0.9999 - loss: 0.0015 - val_accuracy: 0.9975 - val_loss: 0.0197 - learning_rate: 1.0000e-05\n",
            "Epoch 55/100\n",
            "\u001b[1m152/152\u001b[0m \u001b[32m━━━━━━━━━━━━━━━━━━━━\u001b[0m\u001b[37m\u001b[0m \u001b[1m65s\u001b[0m 427ms/step - accuracy: 0.9987 - loss: 0.0043 - val_accuracy: 0.9959 - val_loss: 0.0289 - learning_rate: 1.0000e-05\n",
            "Epoch 56/100\n",
            "\u001b[1m152/152\u001b[0m \u001b[32m━━━━━━━━━━━━━━━━━━━━\u001b[0m\u001b[37m\u001b[0m \u001b[1m66s\u001b[0m 431ms/step - accuracy: 0.9998 - loss: 0.0013 - val_accuracy: 0.9950 - val_loss: 0.0326 - learning_rate: 1.0000e-05\n",
            "Epoch 57/100\n",
            "\u001b[1m152/152\u001b[0m \u001b[32m━━━━━━━━━━━━━━━━━━━━\u001b[0m\u001b[37m\u001b[0m \u001b[1m65s\u001b[0m 427ms/step - accuracy: 0.9998 - loss: 0.0015 - val_accuracy: 0.9959 - val_loss: 0.0259 - learning_rate: 1.0000e-05\n",
            "Epoch 58/100\n",
            "\u001b[1m152/152\u001b[0m \u001b[32m━━━━━━━━━━━━━━━━━━━━\u001b[0m\u001b[37m\u001b[0m \u001b[1m65s\u001b[0m 430ms/step - accuracy: 0.9980 - loss: 0.0040 - val_accuracy: 0.9959 - val_loss: 0.0289 - learning_rate: 1.0000e-05\n",
            "Epoch 59/100\n",
            "\u001b[1m152/152\u001b[0m \u001b[32m━━━━━━━━━━━━━━━━━━━━\u001b[0m\u001b[37m\u001b[0m \u001b[1m66s\u001b[0m 433ms/step - accuracy: 0.9999 - loss: 0.0013 - val_accuracy: 0.9942 - val_loss: 0.0356 - learning_rate: 1.0000e-05\n",
            "Epoch 60/100\n",
            "\u001b[1m152/152\u001b[0m \u001b[32m━━━━━━━━━━━━━━━━━━━━\u001b[0m\u001b[37m\u001b[0m \u001b[1m66s\u001b[0m 437ms/step - accuracy: 1.0000 - loss: 0.0013 - val_accuracy: 0.9959 - val_loss: 0.0289 - learning_rate: 1.0000e-05\n",
            "Epoch 61/100\n",
            "\u001b[1m152/152\u001b[0m \u001b[32m━━━━━━━━━━━━━━━━━━━━\u001b[0m\u001b[37m\u001b[0m \u001b[1m64s\u001b[0m 423ms/step - accuracy: 0.9982 - loss: 0.0034 - val_accuracy: 0.9959 - val_loss: 0.0324 - learning_rate: 1.0000e-05\n",
            "Epoch 62/100\n",
            "\u001b[1m152/152\u001b[0m \u001b[32m━━━━━━━━━━━━━━━━━━━━\u001b[0m\u001b[37m\u001b[0m \u001b[1m65s\u001b[0m 428ms/step - accuracy: 0.9996 - loss: 0.0010 - val_accuracy: 0.9967 - val_loss: 0.0208 - learning_rate: 1.0000e-05\n",
            "Epoch 63/100\n",
            "\u001b[1m152/152\u001b[0m \u001b[32m━━━━━━━━━━━━━━━━━━━━\u001b[0m\u001b[37m\u001b[0m \u001b[1m66s\u001b[0m 432ms/step - accuracy: 0.9989 - loss: 0.0027 - val_accuracy: 0.9959 - val_loss: 0.0376 - learning_rate: 1.0000e-05\n",
            "Epoch 64/100\n",
            "\u001b[1m152/152\u001b[0m \u001b[32m━━━━━━━━━━━━━━━━━━━━\u001b[0m\u001b[37m\u001b[0m \u001b[1m65s\u001b[0m 429ms/step - accuracy: 0.9981 - loss: 0.0039 - val_accuracy: 0.9942 - val_loss: 0.0387 - learning_rate: 1.0000e-05\n"
          ]
        }
      ]
    },
    {
      "cell_type": "code",
      "source": [
        "test_generator = datagen.flow_from_dataframe(\n",
        "    dataframe=pd.DataFrame({'filename': test_files, 'label': test_labels}),\n",
        "    x_col='filename',\n",
        "    y_col='label',\n",
        "    target_size=(224, 224),\n",
        "    batch_size=32,\n",
        "    class_mode='categorical',\n",
        "    shuffle=False\n",
        ")"
      ],
      "metadata": {
        "id": "ajYsOqw7ilHB",
        "colab": {
          "base_uri": "https://localhost:8080/"
        },
        "outputId": "49a3f7ab-ce7a-4db4-adc3-5977624f8c62"
      },
      "execution_count": 17,
      "outputs": [
        {
          "output_type": "stream",
          "name": "stdout",
          "text": [
            "Found 1511 validated image filenames belonging to 2 classes.\n"
          ]
        }
      ]
    },
    {
      "cell_type": "code",
      "source": [
        "# Test tahminleri\n",
        "preds = model.predict(test_generator)\n",
        "pred_classes = np.argmax(preds, axis=1)"
      ],
      "metadata": {
        "id": "aHmjttyvi1de",
        "colab": {
          "base_uri": "https://localhost:8080/"
        },
        "outputId": "b5aa9b23-f357-4419-ae04-7a76d8fece03"
      },
      "execution_count": 18,
      "outputs": [
        {
          "output_type": "stream",
          "name": "stderr",
          "text": [
            "/usr/local/lib/python3.11/dist-packages/keras/src/trainers/data_adapters/py_dataset_adapter.py:121: UserWarning: Your `PyDataset` class should call `super().__init__(**kwargs)` in its constructor. `**kwargs` can include `workers`, `use_multiprocessing`, `max_queue_size`. Do not pass these arguments to `fit()`, as they will be ignored.\n",
            "  self._warn_if_super_not_called()\n"
          ]
        },
        {
          "output_type": "stream",
          "name": "stdout",
          "text": [
            "\u001b[1m48/48\u001b[0m \u001b[32m━━━━━━━━━━━━━━━━━━━━\u001b[0m\u001b[37m\u001b[0m \u001b[1m44s\u001b[0m 682ms/step\n"
          ]
        }
      ]
    },
    {
      "cell_type": "code",
      "source": [
        "# Rapor ve metrikler\n",
        "print(classification_report(test_generator.classes, pred_classes))"
      ],
      "metadata": {
        "id": "wZMvswu5i1ZZ",
        "colab": {
          "base_uri": "https://localhost:8080/"
        },
        "outputId": "709edc73-3887-4ec5-bcf8-2df4e546046b"
      },
      "execution_count": 19,
      "outputs": [
        {
          "output_type": "stream",
          "name": "stdout",
          "text": [
            "              precision    recall  f1-score   support\n",
            "\n",
            "           0       0.99      1.00      0.99       732\n",
            "           1       1.00      0.99      0.99       779\n",
            "\n",
            "    accuracy                           0.99      1511\n",
            "   macro avg       0.99      0.99      0.99      1511\n",
            "weighted avg       0.99      0.99      0.99      1511\n",
            "\n"
          ]
        }
      ]
    },
    {
      "cell_type": "code",
      "source": [
        "# ROC Eğrisi\n",
        "fpr, tpr, _ = roc_curve(test_generator.classes, preds[:, 1])\n",
        "roc_auc = auc(fpr, tpr)"
      ],
      "metadata": {
        "id": "WhgzoTkFi1U8"
      },
      "execution_count": 20,
      "outputs": []
    },
    {
      "cell_type": "code",
      "source": [
        "plt.figure()\n",
        "plt.plot(fpr, tpr, color='darkorange', lw=2, label='ROC curve (area = %0.2f)' % roc_auc)\n",
        "plt.plot([0, 1], [0, 1], color='navy', lw=2, linestyle='--')\n",
        "plt.xlim([0.0, 1.0])\n",
        "plt.ylim([0.0, 1.05])\n",
        "plt.xlabel('False Positive Rate')\n",
        "plt.ylabel('True Positive Rate')\n",
        "plt.title('Receiver Operating Characteristic')\n",
        "plt.legend(loc=\"lower right\")\n",
        "plt.show()"
      ],
      "metadata": {
        "id": "wqcDi6LJi1QJ",
        "colab": {
          "base_uri": "https://localhost:8080/",
          "height": 472
        },
        "outputId": "627e64f9-2747-4f77-9346-9e47307e84ba"
      },
      "execution_count": 21,
      "outputs": [
        {
          "output_type": "display_data",
          "data": {
            "text/plain": [
              "<Figure size 640x480 with 1 Axes>"
            ],
            "image/png": "[encoded data removed]"
          },
          "metadata": {}
        }
      ]
    },
    {
      "cell_type": "code",
      "source": [
        "# Karışıklık Matrisi\n",
        "conf_matrix = confusion_matrix(test_generator.classes, pred_classes)\n",
        "sns.heatmap(conf_matrix, annot=True, fmt='d', cmap='Blues')\n",
        "plt.xlabel('Predicted Label')\n",
        "plt.ylabel('True Label')\n",
        "plt.title('Confusion Matrix')\n",
        "plt.show()"
      ],
      "metadata": {
        "id": "eG18Nd2oi1MB",
        "colab": {
          "base_uri": "https://localhost:8080/",
          "height": 472
        },
        "outputId": "39d6415b-8f54-4b62-941e-b1dfba9af299"
      },
      "execution_count": 22,
      "outputs": [
        {
          "output_type": "display_data",
          "data": {
            "text/plain": [
              "<Figure size 640x480 with 2 Axes>"
            ],
            "image/png": "[encoded data removed]"
          },
          "metadata": {}
        }
      ]
    },
    {
      "cell_type": "code",
      "source": [
        "model.save(\"face_mask_detect.h5\")"
      ],
      "metadata": {
        "colab": {
          "base_uri": "https://localhost:8080/"
        },
        "id": "UBr_2fZEwZFZ",
        "outputId": "3d932946-9e23-40c8-c303-32389a2542a0"
      },
      "execution_count": 23,
      "outputs": [
        {
          "output_type": "stream",
          "name": "stderr",
          "text": [
            "WARNING:absl:You are saving your model as an HDF5 file via `model.save()` or `keras.saving.save_model(model)`. This file format is considered legacy. We recommend using instead the native Keras format, e.g. `model.save('my_model.keras')` or `keras.saving.save_model(model, 'my_model.keras')`. \n"
          ]
        }
      ]
    }
  ]
}