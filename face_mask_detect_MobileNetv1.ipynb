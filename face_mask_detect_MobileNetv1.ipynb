{
  "nbformat": 4,
  "nbformat_minor": 0,
  "metadata": {
    "colab": {
      "provenance": [],
      "gpuType": "L4"
    },
    "kernelspec": {
      "name": "python3",
      "display_name": "Python 3"
    },
    "language_info": {
      "name": "python"
    },
    "accelerator": "GPU"
  },
  "cells": [
    {
      "cell_type": "code",
      "execution_count": 1,
      "metadata": {
        "id": "HxwnNLYdhEk0"
      },
      "outputs": [],
      "source": [
        "import pandas as pd\n",
        "import numpy as np\n",
        "from sklearn.model_selection import train_test_split\n",
        "from sklearn.metrics import classification_report, confusion_matrix, roc_curve, auc\n",
        "import matplotlib.pyplot as plt\n",
        "import seaborn as sns\n",
        "import os\n",
        "\n",
        "from tensorflow.keras.applications import DenseNet121, MobileNet\n",
        "from tensorflow.keras.models import Model\n",
        "from tensorflow.keras.layers import GlobalAveragePooling2D, Dropout, Dense\n",
        "from tensorflow.keras.preprocessing.image import ImageDataGenerator\n",
        "from tensorflow.keras.optimizers import Adam, SGD\n",
        "from tensorflow.keras.callbacks import EarlyStopping, ReduceLROnPlateau\n",
        "\n",
        "import kagglehub"
      ]
    },
    {
      "cell_type": "code",
      "source": [
        "# Veri setini indirin\n",
        "path = kagglehub.dataset_download(\"omkargurav/face-mask-dataset\")"
      ],
      "metadata": {
        "colab": {
          "base_uri": "https://localhost:8080/"
        },
        "id": "y36clSlbhWO2",
        "outputId": "dab76387-3b7e-4927-bbf9-1db2fd8f8d02"
      },
      "execution_count": 2,
      "outputs": [
        {
          "output_type": "stream",
          "name": "stdout",
          "text": [
            "Warning: Looks like you're using an outdated `kagglehub` version (installed: 0.3.6), please consider upgrading to the latest version (0.3.7).\n",
            "Downloading from https://www.kaggle.com/api/v1/datasets/download/omkargurav/face-mask-dataset?dataset_version_number=1...\n"
          ]
        },
        {
          "output_type": "stream",
          "name": "stderr",
          "text": [
            "100%|██████████| 163M/163M [00:00<00:00, 183MB/s]"
          ]
        },
        {
          "output_type": "stream",
          "name": "stdout",
          "text": [
            "Extracting files...\n"
          ]
        },
        {
          "output_type": "stream",
          "name": "stderr",
          "text": [
            "\n"
          ]
        }
      ]
    },
    {
      "cell_type": "code",
      "source": [
        "print(\"Path to dataset files:\", path)"
      ],
      "metadata": {
        "colab": {
          "base_uri": "https://localhost:8080/"
        },
        "id": "oPPiVwTHhWK6",
        "outputId": "7468436b-69f1-43fe-ef44-1b1c9961421e"
      },
      "execution_count": 3,
      "outputs": [
        {
          "output_type": "stream",
          "name": "stdout",
          "text": [
            "Path to dataset files: /root/.cache/kagglehub/datasets/omkargurav/face-mask-dataset/versions/1\n"
          ]
        }
      ]
    },
    {
      "cell_type": "code",
      "source": [
        "data_dir = '/root/.cache/kagglehub/datasets/omkargurav/face-mask-dataset/versions/1/data'"
      ],
      "metadata": {
        "id": "o-pvXyeKhWHm"
      },
      "execution_count": 4,
      "outputs": []
    },
    {
      "cell_type": "code",
      "source": [
        "categories = os.listdir(data_dir)\n",
        "filepaths = []\n",
        "labels = []"
      ],
      "metadata": {
        "id": "jR-mFK-GhWD3"
      },
      "execution_count": 5,
      "outputs": []
    },
    {
      "cell_type": "code",
      "source": [
        "for category in categories:\n",
        "    category_path = os.path.join(data_dir, category)\n",
        "    for filename in os.listdir(category_path):\n",
        "        filepaths.append(os.path.join(category_path, filename))\n",
        "        labels.append(category)"
      ],
      "metadata": {
        "id": "yNrmtNz2hV-u"
      },
      "execution_count": 6,
      "outputs": []
    },
    {
      "cell_type": "code",
      "source": [
        "train_files, test_files, train_labels, test_labels = train_test_split(filepaths, labels, test_size=0.2, random_state=42)"
      ],
      "metadata": {
        "id": "HgqHJCzshV0J"
      },
      "execution_count": 7,
      "outputs": []
    },
    {
      "cell_type": "code",
      "source": [
        "train_files, val_files, train_labels, val_labels = train_test_split(train_files, train_labels, test_size=0.2, random_state=42)"
      ],
      "metadata": {
        "id": "3zEoLuzAiUMo"
      },
      "execution_count": 8,
      "outputs": []
    },
    {
      "cell_type": "code",
      "source": [
        "base_model = MobileNet(weights='imagenet', include_top=False, input_shape=(224, 224, 3))"
      ],
      "metadata": {
        "colab": {
          "base_uri": "https://localhost:8080/"
        },
        "id": "rUkShcM4iUIs",
        "outputId": "b448c2c2-fb91-43a6-8c63-4be486043f3a"
      },
      "execution_count": 9,
      "outputs": [
        {
          "output_type": "stream",
          "name": "stdout",
          "text": [
            "Downloading data from https://storage.googleapis.com/tensorflow/keras-applications/mobilenet/mobilenet_1_0_224_tf_no_top.h5\n",
            "\u001b[1m17225924/17225924\u001b[0m \u001b[32m━━━━━━━━━━━━━━━━━━━━\u001b[0m\u001b[37m\u001b[0m \u001b[1m0s\u001b[0m 0us/step\n"
          ]
        }
      ]
    },
    {
      "cell_type": "code",
      "source": [
        "x = base_model.output\n",
        "x = GlobalAveragePooling2D()(x)\n",
        "x = Dropout(0.5)(x)\n",
        "x = Dense(256, activation='relu')(x)\n",
        "x = Dense(256, activation='relu')(x)\n",
        "x = Dense(128, activation='relu')(x)\n",
        "x = Dense(64, activation='relu')(x)\n",
        "predictions = Dense(2, activation='softmax')(x)\n",
        "model = Model(inputs=base_model.input, outputs=predictions)"
      ],
      "metadata": {
        "id": "rqqjb2sRiUFo"
      },
      "execution_count": 10,
      "outputs": []
    },
    {
      "cell_type": "code",
      "source": [
        "model.compile(optimizer=Adam(learning_rate=0.001),loss='categorical_crossentropy',metrics=['accuracy'])"
      ],
      "metadata": {
        "id": "Rec_gcw4iT_S"
      },
      "execution_count": 11,
      "outputs": []
    },
    {
      "cell_type": "code",
      "source": [
        "early_stopping = EarlyStopping(monitor='val_loss', patience=25)\n",
        "reduce_lr = ReduceLROnPlateau(monitor='val_loss', factor=0.1, patience=5, min_lr=0.00001)"
      ],
      "metadata": {
        "id": "DRlFeqPtiT7f"
      },
      "execution_count": 12,
      "outputs": []
    },
    {
      "cell_type": "code",
      "source": [
        "datagen = ImageDataGenerator(\n",
        "    rescale=1.0/255,\n",
        "    rotation_range=10,\n",
        "    width_shift_range=0.1,\n",
        "    height_shift_range=0.1,\n",
        "    shear_range=0.1,\n",
        "    zoom_range=0.1,\n",
        "    horizontal_flip=True,\n",
        "    fill_mode='nearest'\n",
        ")"
      ],
      "metadata": {
        "id": "sKUREUCfilcP"
      },
      "execution_count": 13,
      "outputs": []
    },
    {
      "cell_type": "code",
      "source": [
        "train_generator = datagen.flow_from_dataframe(\n",
        "    dataframe=pd.DataFrame({'filename': train_files, 'label': train_labels}),\n",
        "    x_col='filename',\n",
        "    y_col='label',\n",
        "    target_size=(224, 224),\n",
        "    batch_size=32,\n",
        "    class_mode='categorical'\n",
        ")"
      ],
      "metadata": {
        "colab": {
          "base_uri": "https://localhost:8080/"
        },
        "id": "AKVIDjlPilX2",
        "outputId": "6acff35f-470c-4da5-f22d-8716d28f2109"
      },
      "execution_count": 14,
      "outputs": [
        {
          "output_type": "stream",
          "name": "stdout",
          "text": [
            "Found 4833 validated image filenames belonging to 2 classes.\n"
          ]
        }
      ]
    },
    {
      "cell_type": "code",
      "source": [
        "val_generator = datagen.flow_from_dataframe(\n",
        "    dataframe=pd.DataFrame({'filename': val_files, 'label': val_labels}),\n",
        "    x_col='filename',\n",
        "    y_col='label',\n",
        "    target_size=(224, 224),\n",
        "    batch_size=32,\n",
        "    class_mode='categorical'\n",
        ")"
      ],
      "metadata": {
        "colab": {
          "base_uri": "https://localhost:8080/"
        },
        "id": "rehaSlduilTk",
        "outputId": "960c3245-b99c-42ba-8080-eab132cde801"
      },
      "execution_count": 15,
      "outputs": [
        {
          "output_type": "stream",
          "name": "stdout",
          "text": [
            "Found 1209 validated image filenames belonging to 2 classes.\n"
          ]
        }
      ]
    },
    {
      "cell_type": "code",
      "source": [
        "history = model.fit(\n",
        "    train_generator,\n",
        "    epochs=100,\n",
        "    validation_data=val_generator,\n",
        "    callbacks=[early_stopping, reduce_lr]\n",
        ")"
      ],
      "metadata": {
        "colab": {
          "base_uri": "https://localhost:8080/"
        },
        "id": "fqzXIRbgilOS",
        "outputId": "cc9d23c4-aba6-4f4e-f56f-e51923686722"
      },
      "execution_count": 16,
      "outputs": [
        {
          "output_type": "stream",
          "name": "stderr",
          "text": [
            "/usr/local/lib/python3.11/dist-packages/keras/src/trainers/data_adapters/py_dataset_adapter.py:121: UserWarning: Your `PyDataset` class should call `super().__init__(**kwargs)` in its constructor. `**kwargs` can include `workers`, `use_multiprocessing`, `max_queue_size`. Do not pass these arguments to `fit()`, as they will be ignored.\n",
            "  self._warn_if_super_not_called()\n"
          ]
        },
        {
          "output_type": "stream",
          "name": "stdout",
          "text": [
            "Epoch 1/100\n",
            "\u001b[1m 27/152\u001b[0m \u001b[32m━━━\u001b[0m\u001b[37m━━━━━━━━━━━━━━━━━\u001b[0m \u001b[1m40s\u001b[0m 324ms/step - accuracy: 0.8181 - loss: 0.3238"
          ]
        },
        {
          "output_type": "stream",
          "name": "stderr",
          "text": [
            "/usr/local/lib/python3.11/dist-packages/PIL/Image.py:1045: UserWarning: Palette images with Transparency expressed in bytes should be converted to RGBA images\n",
            "  warnings.warn(\n"
          ]
        },
        {
          "output_type": "stream",
          "name": "stdout",
          "text": [
            "\u001b[1m152/152\u001b[0m \u001b[32m━━━━━━━━━━━━━━━━━━━━\u001b[0m\u001b[37m\u001b[0m \u001b[1m117s\u001b[0m 548ms/step - accuracy: 0.9322 - loss: 0.1417 - val_accuracy: 0.9744 - val_loss: 0.3024 - learning_rate: 0.0010\n",
            "Epoch 2/100\n",
            "\u001b[1m152/152\u001b[0m \u001b[32m━━━━━━━━━━━━━━━━━━━━\u001b[0m\u001b[37m\u001b[0m \u001b[1m64s\u001b[0m 421ms/step - accuracy: 0.9848 - loss: 0.0535 - val_accuracy: 0.9264 - val_loss: 0.3784 - learning_rate: 0.0010\n",
            "Epoch 3/100\n",
            "\u001b[1m152/152\u001b[0m \u001b[32m━━━━━━━━━━━━━━━━━━━━\u001b[0m\u001b[37m\u001b[0m \u001b[1m64s\u001b[0m 420ms/step - accuracy: 0.9896 - loss: 0.0321 - val_accuracy: 0.9818 - val_loss: 0.0683 - learning_rate: 0.0010\n",
            "Epoch 4/100\n",
            "\u001b[1m152/152\u001b[0m \u001b[32m━━━━━━━━━━━━━━━━━━━━\u001b[0m\u001b[37m\u001b[0m \u001b[1m64s\u001b[0m 421ms/step - accuracy: 0.9729 - loss: 0.0766 - val_accuracy: 0.9851 - val_loss: 0.0536 - learning_rate: 0.0010\n",
            "Epoch 5/100\n",
            "\u001b[1m152/152\u001b[0m \u001b[32m━━━━━━━━━━━━━━━━━━━━\u001b[0m\u001b[37m\u001b[0m \u001b[1m64s\u001b[0m 422ms/step - accuracy: 0.9904 - loss: 0.0303 - val_accuracy: 0.9967 - val_loss: 0.0186 - learning_rate: 0.0010\n",
            "Epoch 6/100\n",
            "\u001b[1m152/152\u001b[0m \u001b[32m━━━━━━━━━━━━━━━━━━━━\u001b[0m\u001b[37m\u001b[0m \u001b[1m64s\u001b[0m 424ms/step - accuracy: 0.9928 - loss: 0.0271 - val_accuracy: 0.6865 - val_loss: 0.6053 - learning_rate: 0.0010\n",
            "Epoch 7/100\n",
            "\u001b[1m152/152\u001b[0m \u001b[32m━━━━━━━━━━━━━━━━━━━━\u001b[0m\u001b[37m\u001b[0m \u001b[1m64s\u001b[0m 424ms/step - accuracy: 0.9888 - loss: 0.0459 - val_accuracy: 0.9843 - val_loss: 0.1429 - learning_rate: 0.0010\n",
            "Epoch 8/100\n",
            "\u001b[1m152/152\u001b[0m \u001b[32m━━━━━━━━━━━━━━━━━━━━\u001b[0m\u001b[37m\u001b[0m \u001b[1m65s\u001b[0m 425ms/step - accuracy: 0.9914 - loss: 0.0274 - val_accuracy: 0.7833 - val_loss: 0.8404 - learning_rate: 0.0010\n",
            "Epoch 9/100\n",
            "\u001b[1m152/152\u001b[0m \u001b[32m━━━━━━━━━━━━━━━━━━━━\u001b[0m\u001b[37m\u001b[0m \u001b[1m64s\u001b[0m 423ms/step - accuracy: 0.9923 - loss: 0.0341 - val_accuracy: 0.8445 - val_loss: 0.6779 - learning_rate: 0.0010\n",
            "Epoch 10/100\n",
            "\u001b[1m152/152\u001b[0m \u001b[32m━━━━━━━━━━━━━━━━━━━━\u001b[0m\u001b[37m\u001b[0m \u001b[1m64s\u001b[0m 421ms/step - accuracy: 0.9889 - loss: 0.0347 - val_accuracy: 0.9876 - val_loss: 0.0433 - learning_rate: 0.0010\n",
            "Epoch 11/100\n",
            "\u001b[1m152/152\u001b[0m \u001b[32m━━━━━━━━━━━━━━━━━━━━\u001b[0m\u001b[37m\u001b[0m \u001b[1m64s\u001b[0m 423ms/step - accuracy: 0.9955 - loss: 0.0119 - val_accuracy: 0.9950 - val_loss: 0.0229 - learning_rate: 1.0000e-04\n",
            "Epoch 12/100\n",
            "\u001b[1m152/152\u001b[0m \u001b[32m━━━━━━━━━━━━━━━━━━━━\u001b[0m\u001b[37m\u001b[0m \u001b[1m65s\u001b[0m 425ms/step - accuracy: 0.9986 - loss: 0.0055 - val_accuracy: 0.9926 - val_loss: 0.0436 - learning_rate: 1.0000e-04\n",
            "Epoch 13/100\n",
            "\u001b[1m152/152\u001b[0m \u001b[32m━━━━━━━━━━━━━━━━━━━━\u001b[0m\u001b[37m\u001b[0m \u001b[1m64s\u001b[0m 424ms/step - accuracy: 0.9983 - loss: 0.0045 - val_accuracy: 0.9950 - val_loss: 0.0233 - learning_rate: 1.0000e-04\n",
            "Epoch 14/100\n",
            "\u001b[1m152/152\u001b[0m \u001b[32m━━━━━━━━━━━━━━━━━━━━\u001b[0m\u001b[37m\u001b[0m \u001b[1m64s\u001b[0m 421ms/step - accuracy: 0.9971 - loss: 0.0093 - val_accuracy: 0.9967 - val_loss: 0.0348 - learning_rate: 1.0000e-04\n",
            "Epoch 15/100\n",
            "\u001b[1m152/152\u001b[0m \u001b[32m━━━━━━━━━━━━━━━━━━━━\u001b[0m\u001b[37m\u001b[0m \u001b[1m64s\u001b[0m 422ms/step - accuracy: 0.9988 - loss: 0.0060 - val_accuracy: 0.9959 - val_loss: 0.0395 - learning_rate: 1.0000e-04\n",
            "Epoch 16/100\n",
            "\u001b[1m152/152\u001b[0m \u001b[32m━━━━━━━━━━━━━━━━━━━━\u001b[0m\u001b[37m\u001b[0m \u001b[1m65s\u001b[0m 425ms/step - accuracy: 0.9990 - loss: 0.0033 - val_accuracy: 0.9950 - val_loss: 0.0369 - learning_rate: 1.0000e-05\n",
            "Epoch 17/100\n",
            "\u001b[1m152/152\u001b[0m \u001b[32m━━━━━━━━━━━━━━━━━━━━\u001b[0m\u001b[37m\u001b[0m \u001b[1m64s\u001b[0m 424ms/step - accuracy: 0.9996 - loss: 0.0021 - val_accuracy: 0.9967 - val_loss: 0.0220 - learning_rate: 1.0000e-05\n",
            "Epoch 18/100\n",
            "\u001b[1m152/152\u001b[0m \u001b[32m━━━━━━━━━━━━━━━━━━━━\u001b[0m\u001b[37m\u001b[0m \u001b[1m64s\u001b[0m 422ms/step - accuracy: 0.9990 - loss: 0.0027 - val_accuracy: 0.9967 - val_loss: 0.0230 - learning_rate: 1.0000e-05\n",
            "Epoch 19/100\n",
            "\u001b[1m152/152\u001b[0m \u001b[32m━━━━━━━━━━━━━━━━━━━━\u001b[0m\u001b[37m\u001b[0m \u001b[1m64s\u001b[0m 421ms/step - accuracy: 0.9985 - loss: 0.0041 - val_accuracy: 0.9950 - val_loss: 0.0234 - learning_rate: 1.0000e-05\n",
            "Epoch 20/100\n",
            "\u001b[1m152/152\u001b[0m \u001b[32m━━━━━━━━━━━━━━━━━━━━\u001b[0m\u001b[37m\u001b[0m \u001b[1m65s\u001b[0m 426ms/step - accuracy: 0.9991 - loss: 0.0042 - val_accuracy: 0.9959 - val_loss: 0.0391 - learning_rate: 1.0000e-05\n",
            "Epoch 21/100\n",
            "\u001b[1m152/152\u001b[0m \u001b[32m━━━━━━━━━━━━━━━━━━━━\u001b[0m\u001b[37m\u001b[0m \u001b[1m64s\u001b[0m 424ms/step - accuracy: 0.9984 - loss: 0.0042 - val_accuracy: 0.9959 - val_loss: 0.0423 - learning_rate: 1.0000e-05\n",
            "Epoch 22/100\n",
            "\u001b[1m152/152\u001b[0m \u001b[32m━━━━━━━━━━━━━━━━━━━━\u001b[0m\u001b[37m\u001b[0m \u001b[1m64s\u001b[0m 421ms/step - accuracy: 0.9972 - loss: 0.0066 - val_accuracy: 0.9967 - val_loss: 0.0352 - learning_rate: 1.0000e-05\n",
            "Epoch 23/100\n",
            "\u001b[1m152/152\u001b[0m \u001b[32m━━━━━━━━━━━━━━━━━━━━\u001b[0m\u001b[37m\u001b[0m \u001b[1m64s\u001b[0m 423ms/step - accuracy: 0.9993 - loss: 0.0047 - val_accuracy: 0.9959 - val_loss: 0.0286 - learning_rate: 1.0000e-05\n",
            "Epoch 24/100\n",
            "\u001b[1m152/152\u001b[0m \u001b[32m━━━━━━━━━━━━━━━━━━━━\u001b[0m\u001b[37m\u001b[0m \u001b[1m64s\u001b[0m 423ms/step - accuracy: 0.9997 - loss: 0.0023 - val_accuracy: 0.9950 - val_loss: 0.0257 - learning_rate: 1.0000e-05\n",
            "Epoch 25/100\n",
            "\u001b[1m152/152\u001b[0m \u001b[32m━━━━━━━━━━━━━━━━━━━━\u001b[0m\u001b[37m\u001b[0m \u001b[1m64s\u001b[0m 424ms/step - accuracy: 0.9990 - loss: 0.0041 - val_accuracy: 0.9967 - val_loss: 0.0251 - learning_rate: 1.0000e-05\n",
            "Epoch 26/100\n",
            "\u001b[1m152/152\u001b[0m \u001b[32m━━━━━━━━━━━━━━━━━━━━\u001b[0m\u001b[37m\u001b[0m \u001b[1m64s\u001b[0m 421ms/step - accuracy: 0.9971 - loss: 0.0048 - val_accuracy: 0.9942 - val_loss: 0.0283 - learning_rate: 1.0000e-05\n",
            "Epoch 27/100\n",
            "\u001b[1m152/152\u001b[0m \u001b[32m━━━━━━━━━━━━━━━━━━━━\u001b[0m\u001b[37m\u001b[0m \u001b[1m64s\u001b[0m 422ms/step - accuracy: 0.9989 - loss: 0.0033 - val_accuracy: 0.9942 - val_loss: 0.0275 - learning_rate: 1.0000e-05\n",
            "Epoch 28/100\n",
            "\u001b[1m152/152\u001b[0m \u001b[32m━━━━━━━━━━━━━━━━━━━━\u001b[0m\u001b[37m\u001b[0m \u001b[1m65s\u001b[0m 425ms/step - accuracy: 0.9977 - loss: 0.0057 - val_accuracy: 0.9942 - val_loss: 0.0269 - learning_rate: 1.0000e-05\n",
            "Epoch 29/100\n",
            "\u001b[1m152/152\u001b[0m \u001b[32m━━━━━━━━━━━━━━━━━━━━\u001b[0m\u001b[37m\u001b[0m \u001b[1m64s\u001b[0m 424ms/step - accuracy: 0.9998 - loss: 0.0022 - val_accuracy: 0.9959 - val_loss: 0.0218 - learning_rate: 1.0000e-05\n",
            "Epoch 30/100\n",
            "\u001b[1m152/152\u001b[0m \u001b[32m━━━━━━━━━━━━━━━━━━━━\u001b[0m\u001b[37m\u001b[0m \u001b[1m64s\u001b[0m 422ms/step - accuracy: 0.9981 - loss: 0.0041 - val_accuracy: 0.9959 - val_loss: 0.0309 - learning_rate: 1.0000e-05\n"
          ]
        }
      ]
    },
    {
      "cell_type": "code",
      "source": [
        "test_generator = datagen.flow_from_dataframe(\n",
        "    dataframe=pd.DataFrame({'filename': test_files, 'label': test_labels}),\n",
        "    x_col='filename',\n",
        "    y_col='label',\n",
        "    target_size=(224, 224),\n",
        "    batch_size=32,\n",
        "    class_mode='categorical',\n",
        "    shuffle=False\n",
        ")"
      ],
      "metadata": {
        "id": "ajYsOqw7ilHB",
        "colab": {
          "base_uri": "https://localhost:8080/"
        },
        "outputId": "9512ae4d-7730-4c0e-e68a-72d039c81296"
      },
      "execution_count": 17,
      "outputs": [
        {
          "output_type": "stream",
          "name": "stdout",
          "text": [
            "Found 1511 validated image filenames belonging to 2 classes.\n"
          ]
        }
      ]
    },
    {
      "cell_type": "code",
      "source": [
        "# Test tahminleri\n",
        "preds = model.predict(test_generator)\n",
        "pred_classes = np.argmax(preds, axis=1)"
      ],
      "metadata": {
        "id": "aHmjttyvi1de",
        "colab": {
          "base_uri": "https://localhost:8080/"
        },
        "outputId": "d06aed26-72b9-4f7c-8cc3-538cd82d820a"
      },
      "execution_count": 18,
      "outputs": [
        {
          "output_type": "stream",
          "name": "stderr",
          "text": [
            "/usr/local/lib/python3.11/dist-packages/keras/src/trainers/data_adapters/py_dataset_adapter.py:121: UserWarning: Your `PyDataset` class should call `super().__init__(**kwargs)` in its constructor. `**kwargs` can include `workers`, `use_multiprocessing`, `max_queue_size`. Do not pass these arguments to `fit()`, as they will be ignored.\n",
            "  self._warn_if_super_not_called()\n"
          ]
        },
        {
          "output_type": "stream",
          "name": "stdout",
          "text": [
            "\u001b[1m48/48\u001b[0m \u001b[32m━━━━━━━━━━━━━━━━━━━━\u001b[0m\u001b[37m\u001b[0m \u001b[1m23s\u001b[0m 435ms/step\n"
          ]
        }
      ]
    },
    {
      "cell_type": "code",
      "source": [
        "# Rapor ve metrikler\n",
        "print(classification_report(test_generator.classes, pred_classes))"
      ],
      "metadata": {
        "id": "wZMvswu5i1ZZ",
        "colab": {
          "base_uri": "https://localhost:8080/"
        },
        "outputId": "5e480041-643a-4990-f9af-defd3944831e"
      },
      "execution_count": 19,
      "outputs": [
        {
          "output_type": "stream",
          "name": "stdout",
          "text": [
            "              precision    recall  f1-score   support\n",
            "\n",
            "           0       1.00      1.00      1.00       732\n",
            "           1       1.00      1.00      1.00       779\n",
            "\n",
            "    accuracy                           1.00      1511\n",
            "   macro avg       1.00      1.00      1.00      1511\n",
            "weighted avg       1.00      1.00      1.00      1511\n",
            "\n"
          ]
        }
      ]
    },
    {
      "cell_type": "code",
      "source": [
        "# ROC Eğrisi\n",
        "fpr, tpr, _ = roc_curve(test_generator.classes, preds[:, 1])\n",
        "roc_auc = auc(fpr, tpr)"
      ],
      "metadata": {
        "id": "WhgzoTkFi1U8"
      },
      "execution_count": 20,
      "outputs": []
    },
    {
      "cell_type": "code",
      "source": [
        "plt.figure()\n",
        "plt.plot(fpr, tpr, color='darkorange', lw=2, label='ROC curve (area = %0.2f)' % roc_auc)\n",
        "plt.plot([0, 1], [0, 1], color='navy', lw=2, linestyle='--')\n",
        "plt.xlim([0.0, 1.0])\n",
        "plt.ylim([0.0, 1.05])\n",
        "plt.xlabel('False Positive Rate')\n",
        "plt.ylabel('True Positive Rate')\n",
        "plt.title('Receiver Operating Characteristic')\n",
        "plt.legend(loc=\"lower right\")\n",
        "plt.show()"
      ],
      "metadata": {
        "id": "wqcDi6LJi1QJ",
        "colab": {
          "base_uri": "https://localhost:8080/",
          "height": 472
        },
        "outputId": "a55e4024-f5f2-4a90-dcb9-05b5d44ccd76"
      },
      "execution_count": 21,
      "outputs": [
        {
          "output_type": "display_data",
          "data": {
            "text/plain": [
              "<Figure size 640x480 with 1 Axes>"
            ],
            "image/png": "[encoded data removed]"
          },
          "metadata": {}
        }
      ]
    },
    {
      "cell_type": "code",
      "source": [
        "# Karışıklık Matrisi\n",
        "conf_matrix = confusion_matrix(test_generator.classes, pred_classes)\n",
        "sns.heatmap(conf_matrix, annot=True, fmt='d', cmap='Blues')\n",
        "plt.xlabel('Predicted Label')\n",
        "plt.ylabel('True Label')\n",
        "plt.title('Confusion Matrix')\n",
        "plt.show()"
      ],
      "metadata": {
        "id": "eG18Nd2oi1MB",
        "colab": {
          "base_uri": "https://localhost:8080/",
          "height": 472
        },
        "outputId": "594ca436-d490-4584-983d-6b7a8fb6124e"
      },
      "execution_count": 22,
      "outputs": [
        {
          "output_type": "display_data",
          "data": {
            "text/plain": [
              "<Figure size 640x480 with 2 Axes>"
            ],
            "image/png": "[encoded data removed]"
          },
          "metadata": {}
        }
      ]
    },
    {
      "cell_type": "code",
      "source": [
        "model.save(\"face_mask_detect.h5\")"
      ],
      "metadata": {
        "colab": {
          "base_uri": "https://localhost:8080/"
        },
        "id": "UBr_2fZEwZFZ",
        "outputId": "5702813d-f0a8-4d3e-e373-bdb88724fdbc"
      },
      "execution_count": 23,
      "outputs": [
        {
          "output_type": "stream",
          "name": "stderr",
          "text": [
            "WARNING:absl:You are saving your model as an HDF5 file via `model.save()` or `keras.saving.save_model(model)`. This file format is considered legacy. We recommend using instead the native Keras format, e.g. `model.save('my_model.keras')` or `keras.saving.save_model(model, 'my_model.keras')`. \n"
          ]
        }
      ]
    }
  ]
}